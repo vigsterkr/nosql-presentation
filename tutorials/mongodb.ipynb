{
 "metadata": {
  "name": ""
 },
 "nbformat": 3,
 "nbformat_minor": 0,
 "worksheets": [
  {
   "cells": [
    {
     "cell_type": "markdown",
     "metadata": {},
     "source": [
      "#Mining the Social Web, 2nd Edition\n",
      "\n",
      "##Chapter 6: Mining Mailboxes: Analyzing Who's Talking To Whom About What, How Often, and More\n",
      "\n",
      "This IPython Notebook provides an interactive way to follow along with and explore the numbered examples from [_Mining the Social Web (2nd Edition)_](http://bit.ly/135dHfs). The intent behind this notebook is to reinforce the concepts from the sample code in a fun, convenient, and effective way. This notebook assumes that you are reading along with the book and have the context of the discussion as you work through these exercises.\n",
      "\n",
      "In the somewhat unlikely event that you've somehow stumbled across this notebook outside of its context on GitHub, [you can find the full source code repository here](http://bit.ly/16kGNyb).\n",
      "\n",
      "## Copyright and Licensing\n",
      "\n",
      "You are free to use or adapt this notebook for any purpose you'd like. However, please respect the [Simplified BSD License](https://github.com/ptwobrussell/Mining-the-Social-Web-2nd-Edition/blob/master/LICENSE.txt) that governs its use."
     ]
    },
    {
     "cell_type": "code",
     "collapsed": false,
     "input": [
      "import os\n",
      "import sys\n",
      "import envoy\n",
      "\n",
      "data_file = os.path.join(os.getcwd(), 'enron.mbox.json')\n",
      "\n",
      "# Run a command just as you would in a terminal on the virtual machine to \n",
      "# import the data file into MongoDB.\n",
      "r = envoy.run('mongoimport --db enron --collection mbox ' + \\\n",
      "              '--file %s' % data_file)\n",
      "\n",
      "# Print its standard output\n",
      "print r.std_out\n",
      "print sys.stderr.write(r.std_err)"
     ],
     "language": "python",
     "metadata": {},
     "outputs": []
    },
    {
     "cell_type": "heading",
     "level": 2,
     "metadata": {},
     "source": [
      "Using PyMongo to access MongoDB from Python"
     ]
    },
    {
     "cell_type": "code",
     "collapsed": false,
     "input": [
      "import json\n",
      "import pymongo # pip install pymongo\n",
      "from bson import json_util # Comes with pymongo\n",
      "\n",
      "# Connects to the MongoDB server running on \n",
      "# localhost:27017 by default\n",
      "\n",
      "client = pymongo.MongoClient()\n",
      "\n",
      "# Get a reference to the enron database\n",
      "\n",
      "db = client.enron\n",
      "\n",
      "# Reference the mbox collection in the Enron database\n",
      "\n",
      "mbox = db.mbox\n",
      "\n",
      "# The number of messages in the collection\n",
      "\n",
      "print \"Number of messages in mbox:\"\n",
      "print mbox.count()\n",
      "print\n",
      "\n",
      "# Pick a message to look at...\n",
      "\n",
      "msg = mbox.find_one()\n",
      "\n",
      "# Display the message as pretty-printed JSON. The use of\n",
      "# the custom serializer supplied by PyMongo is necessary in order\n",
      "# to handle the date field that is provided as a datetime.datetime \n",
      "# tuple.\n",
      "\n",
      "print \"A message:\"\n",
      "print json.dumps(msg, indent=1, default=json_util.default)"
     ],
     "language": "python",
     "metadata": {},
     "outputs": []
    },
    {
     "cell_type": "heading",
     "level": 2,
     "metadata": {},
     "source": [
      "Querying MongoDB by date/time range"
     ]
    },
    {
     "cell_type": "code",
     "collapsed": false,
     "input": [
      "import json\n",
      "import pymongo # pip install pymongo\n",
      "from bson import json_util # Comes with pymongo\n",
      "from datetime import datetime as dt\n",
      "\n",
      "client = pymongo.MongoClient()\n",
      "\n",
      "db = client.enron\n",
      "\n",
      "mbox = db.mbox\n",
      "\n",
      "# Create a small date range here of one day\n",
      "\n",
      "start_date = dt(2001, 4, 1) # Year, Month, Day\n",
      "end_date = dt(2001, 4, 2) # Year, Month, Day\n",
      "\n",
      "# Query the database with the highly versatile \"find\" command,\n",
      "# just like in the MongoDB shell.\n",
      "\n",
      "msgs = [ msg \n",
      "         for msg in mbox.find({\"Date\" : \n",
      "                                  {\n",
      "                                   \"$lt\" : end_date, \n",
      "                                   \"$gt\" : start_date\n",
      "                                  }\n",
      "                              }).sort(\"date\")]\n",
      "\n",
      "# Create a convenience function to make pretty-printing JSON a little\n",
      "# less cumbersome\n",
      "\n",
      "def pp(o, indent=1):\n",
      "    print json.dumps(msgs, indent=indent, default=json_util.default)\n",
      "\n",
      "print \"Messages from a query by date range:\"\n",
      "pp(msgs)"
     ],
     "language": "python",
     "metadata": {},
     "outputs": []
    },
    {
     "cell_type": "heading",
     "level": 2,
     "metadata": {},
     "source": [
      "Enumerating senders and receivers of messages"
     ]
    },
    {
     "cell_type": "code",
     "collapsed": false,
     "input": [
      "import json\n",
      "import pymongo # pip install pymongo\n",
      "from bson import json_util # Comes with pymongo\n",
      "\n",
      "client = pymongo.MongoClient()\n",
      "db = client.enron\n",
      "mbox = db.mbox\n",
      "\n",
      "senders = [ i for i in mbox.distinct(\"From\") ]\n",
      "\n",
      "receivers = [ i for i in mbox.distinct(\"To\") ]\n",
      "\n",
      "cc_receivers = [ i for i in mbox.distinct(\"Cc\") ]\n",
      "\n",
      "bcc_receivers = [ i for i in mbox.distinct(\"Bcc\") ]\n",
      "\n",
      "print \"Num Senders:\", len(senders)\n",
      "print \"Num Receivers:\", len(receivers)\n",
      "print \"Num CC Receivers:\", len(cc_receivers)\n",
      "print \"Num BCC Receivers:\", len(bcc_receivers)"
     ],
     "language": "python",
     "metadata": {},
     "outputs": []
    },
    {
     "cell_type": "heading",
     "level": 2,
     "metadata": {},
     "source": [
      "Analyzing senders and receivers with set operations"
     ]
    },
    {
     "cell_type": "code",
     "collapsed": false,
     "input": [
      "senders = set(senders)\n",
      "receivers = set(receivers)\n",
      "cc_receivers = set(cc_receivers)\n",
      "bcc_receivers = set(bcc_receivers)\n",
      "\n",
      "# Find the number of senders who were also direct receivers\n",
      "\n",
      "senders_intersect_receivers = senders.intersection(receivers)\n",
      "\n",
      "# Find the senders that didn't receive any messages\n",
      "\n",
      "senders_diff_receivers = senders.difference(receivers)\n",
      "\n",
      "# Find the receivers that didn't send any messages\n",
      "\n",
      "receivers_diff_senders = receivers.difference(senders)\n",
      "\n",
      "# Find the senders who were any kind of receiver by\n",
      "# first computing the union of all types of receivers\n",
      "\n",
      "all_receivers = receivers.union(cc_receivers, bcc_receivers)\n",
      "senders_all_receivers = senders.intersection(all_receivers)\n",
      "\n",
      "print \"Num senders in common with receivers:\", len(senders_intersect_receivers)\n",
      "print \"Num senders who didn't receive:\", len(senders_diff_receivers)\n",
      "print \"Num receivers who didn't send:\", len(receivers_diff_senders)\n",
      "print \"Num senders in common with *all* receivers:\", len(senders_all_receivers)"
     ],
     "language": "python",
     "metadata": {},
     "outputs": []
    },
    {
     "cell_type": "heading",
     "level": 2,
     "metadata": {},
     "source": [
      "Finding senders and receivers of messages who were Enron employees"
     ]
    },
    {
     "cell_type": "code",
     "collapsed": false,
     "input": [
      "# In a Mongo shell, you could try this query for the same effect:\n",
      "# db.mbox.find({\"To\" : {\"$regex\" : /.*enron.com.*/i} }, \n",
      "#              {\"To\" : 1, \"_id\" : 0})\n",
      "\n",
      "senders = [ i \n",
      "            for i in mbox.distinct(\"From\") \n",
      "                if i.lower().find(\"@enron.com\") > -1 ]\n",
      "\n",
      "receivers = [ i \n",
      "              for i in mbox.distinct(\"To\") \n",
      "                  if i.lower().find(\"@enron.com\") > -1 ]\n",
      "\n",
      "cc_receivers = [ i \n",
      "                 for i in mbox.distinct(\"Cc\") \n",
      "                     if i.lower().find(\"@enron.com\") > -1 ]\n",
      "\n",
      "bcc_receivers = [ i \n",
      "                  for i in mbox.distinct(\"Bcc\") \n",
      "                      if i.lower().find(\"@enron.com\") > -1 ]\n",
      "\n",
      "print \"Num Senders:\", len(senders)\n",
      "print \"Num Receivers:\", len(receivers)\n",
      "print \"Num CC Receivers:\", len(cc_receivers)\n",
      "print \"Num BCC Receivers:\", len(bcc_receivers)"
     ],
     "language": "python",
     "metadata": {},
     "outputs": []
    },
    {
     "cell_type": "heading",
     "level": 2,
     "metadata": {},
     "source": [
      "Counting sent/received messages for particular email addresses"
     ]
    },
    {
     "cell_type": "code",
     "collapsed": false,
     "input": [
      "import json\n",
      "import pymongo # pip install pymongo\n",
      "from bson import json_util # Comes with pymongo\n",
      "\n",
      "client = pymongo.MongoClient()\n",
      "db = client.enron\n",
      "mbox = db.mbox\n",
      "\n",
      "aliases = [\"kenneth.lay@enron.com\", \"ken_lay@enron.com\", \"ken.lay@enron.com\", \n",
      "           \"kenneth_lay@enron.net\", \"klay@enron.com\"] # More possibilities?\n",
      "\n",
      "to_msgs = [ msg \n",
      "            for msg in mbox.find({\"To\" : { \"$in\" : aliases } })]\n",
      "\n",
      "from_msgs = [ msg \n",
      "         for msg in mbox.find({\"From\" : { \"$in\" : aliases } })]\n",
      "\n",
      "print \"Number of message sent to:\", len(to_msgs)\n",
      "print \"Number of messages sent from:\", len(from_msgs)"
     ],
     "language": "python",
     "metadata": {},
     "outputs": []
    },
    {
     "cell_type": "heading",
     "level": 2,
     "metadata": {},
     "source": [
      "Using MongoDB's data aggregation framework"
     ]
    },
    {
     "cell_type": "code",
     "collapsed": false,
     "input": [
      "import json\n",
      "import pymongo # pip install pymongo\n",
      "from bson import json_util # Comes with pymongo\n",
      "\n",
      "# The basis of our query\n",
      "FROM = \"kenneth.lay@enron.com\"\n",
      "\n",
      "client = pymongo.MongoClient()\n",
      "db = client.enron\n",
      "mbox = db.mbox\n",
      "\n",
      "# Get the recipient lists for each message\n",
      "\n",
      "recipients_per_message = db.mbox.aggregate([\n",
      "  {\"$match\" : {\"From\" : FROM} }, \n",
      "  {\"$project\" : {\"From\" : 1, \"To\" : 1} }, \n",
      "  {\"$group\" : {\"_id\" : \"$From\", \"recipients\" : {\"$addToSet\" : \"$To\" } } }                    \n",
      "])['result'][0]['recipients']\n",
      "\n",
      "# Collapse the lists of recipients into a single list\n",
      "\n",
      "all_recipients = [recipient\n",
      "                  for message in recipients_per_message\n",
      "                      for recipient in message]\n",
      "\n",
      "# Calculate the number of recipients per sent message and sort\n",
      "\n",
      "recipients_per_message_totals = \\\n",
      "  sorted([len(recipients) \n",
      "   for recipients in recipients_per_message])\n",
      "\n",
      "# Demonstrate how to use $unwind followed by $group to collapse\n",
      "# the recipient lists into a single list (with no duplicates\n",
      "# per the $addToSet operator)\n",
      "    \n",
      "unique_recipients = db.mbox.aggregate([\n",
      "  {\"$match\" : {\"From\" : FROM} }, \n",
      "  {\"$project\" : {\"From\" : 1, \"To\" : 1} }, \n",
      "  {\"$unwind\" : \"$To\"}, \n",
      "  {\"$group\" : {\"_id\" : \"From\", \"recipients\" : {\"$addToSet\" : \"$To\"}} }\n",
      "])['result'][0]['recipients']\n",
      "\n",
      "print \"Num total recipients on all messages:\", len(all_recipients)\n",
      "print \"Num recipients for each message:\", recipients_per_message_totals\n",
      "print \"Num unique recipients\", len(unique_recipients)"
     ],
     "language": "python",
     "metadata": {},
     "outputs": []
    },
    {
     "cell_type": "heading",
     "level": 2,
     "metadata": {},
     "source": [
      "Creating a text index on MongoDB documents with PyMongo"
     ]
    },
    {
     "cell_type": "code",
     "collapsed": false,
     "input": [
      "import json\n",
      "import pymongo # pip install pymongo\n",
      "from bson import json_util # Comes with pymongo\n",
      "\n",
      "client = pymongo.MongoClient()\n",
      "db = client.enron\n",
      "mbox = db.mbox\n",
      "\n",
      "# Create an index if it doesn't already exist\n",
      "mbox.ensure_index([(\"$**\", \"text\")], name=\"TextIndex\")\n",
      "\n",
      "# Get the collection stats (collstats) on a collection\n",
      "# named \"mbox\"\n",
      "print json.dumps(db.command(\"collstats\", \"mbox\"), indent=1)\n",
      "\n",
      "# Use the db.command method to issue a \"text\" command\n",
      "# on collection \"mbox\" with parameters, remembering that\n",
      "# we need to use json_util to handle serialization of our JSON\n",
      "print json.dumps(db.command(\"text\", \"mbox\",  \n",
      "                            search=\"raptor\", \n",
      "                            limit=1), \n",
      "                 indent=1, default=json_util.default)"
     ],
     "language": "python",
     "metadata": {},
     "outputs": []
    },
    {
     "cell_type": "heading",
     "level": 2,
     "metadata": {},
     "source": [
      "Aggregate querying for counts of messages by date/time range"
     ]
    },
    {
     "cell_type": "code",
     "collapsed": false,
     "input": [
      "import json\n",
      "import pymongo # pip install pymongo\n",
      "from bson import json_util # Comes with pymongo\n",
      "\n",
      "client = pymongo.MongoClient()\n",
      "db = client.enron\n",
      "mbox = db.mbox\n",
      "\n",
      "results = mbox.aggregate([\n",
      "{\n",
      "  # Create a subdocument called DateBucket with each date component projected\n",
      "  # so that these fields can be grouped on in the next stage of the pipeline\n",
      "  \"$project\" :\n",
      "  {\n",
      "     \"_id\" : 0,\n",
      "     \"DateBucket\" : \n",
      "     {\n",
      "       \"year\" : {\"$year\" : \"$Date\"}, \n",
      "       \"month\" : {\"$month\" : \"$Date\"}, \n",
      "       \"day\" : {\"$dayOfMonth\" : \"$Date\"},\n",
      "       \"hour\" : {\"$hour\" : \"$Date\"},\n",
      "     }\n",
      "  }\n",
      "},\n",
      "{\n",
      "  \"$group\" : \n",
      "  {\n",
      "    # Group by year and date by using these fields for the key.\n",
      "    \"_id\" : {\"year\" : \"$DateBucket.year\", \"month\" : \"$DateBucket.month\"},\n",
      "    \n",
      "    # Increment the sum for each group by 1 for every document that's in it\n",
      "    \"num_msgs\" : {\"$sum\" : 1}\n",
      "  }\n",
      "},\n",
      "{\n",
      "  \"$sort\" : {\"_id.year\" : 1, \"_id.month\" : 1} \n",
      "}\n",
      "])\n",
      "\n",
      "print results"
     ],
     "language": "python",
     "metadata": {},
     "outputs": []
    },
    {
     "cell_type": "heading",
     "level": 2,
     "metadata": {},
     "source": [
      "Rendering time series results as a nicely displayed table"
     ]
    },
    {
     "cell_type": "code",
     "collapsed": false,
     "input": [
      "from prettytable import PrettyTable\n",
      "\n",
      "\n",
      "pt = PrettyTable(field_names=['Year', 'Month', 'Num Msgs'])\n",
      "pt.align['Num Msgs'], pt.align['Month'] = 'r', 'r'\n",
      "[ pt.add_row([ result['_id']['year'], result['_id']['month'], result['num_msgs'] ]) \n",
      "  for result in results['result'] ]\n",
      "\n",
      "print pt"
     ],
     "language": "python",
     "metadata": {},
     "outputs": []
    },
    {
     "cell_type": "code",
     "collapsed": false,
     "input": [],
     "language": "python",
     "metadata": {},
     "outputs": []
    }
   ],
   "metadata": {}
  }
 ]
}
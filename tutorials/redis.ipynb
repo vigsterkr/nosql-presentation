{
 "metadata": {
  "name": ""
 },
 "nbformat": 3,
 "nbformat_minor": 0,
 "worksheets": [
  {
   "cells": [
    {
     "cell_type": "heading",
     "level": 1,
     "metadata": {},
     "source": [
      "Twitter geo hashtag heatmap"
     ]
    },
    {
     "cell_type": "markdown",
     "metadata": {},
     "source": [
      "The goal is to\n",
      "\n",
      " *   Collect and process streaming data without blocking notebook input,\n",
      " *   Use an in-memory database to store and read stream data,\n",
      " *   Perform analyses using up-to-the minute data,\n",
      " *   Display analysis output in the notebook with Javascript, using Google Maps API."
     ]
    },
    {
     "cell_type": "code",
     "collapsed": false,
     "input": [
      "import json\n",
      "import time\n",
      "import datetime\n",
      "import dateutil.parser\n",
      "import numpy as np\n",
      "import multiprocessing as mp\n",
      "import redis\n",
      "import string\n",
      "import collections\n",
      "from Queue import Empty\n",
      "import itertools\n",
      "import twitter"
     ],
     "language": "python",
     "metadata": {},
     "outputs": []
    },
    {
     "cell_type": "markdown",
     "metadata": {},
     "source": [
      "There are two ways to run this notebook. In the optimal case, by obtaining a Twitter API key from Twitter's developer site and then doing a \"pip install twitter\", you can utilize a realtime stream of Twitter data. API keys are free and easy to get; I highly encourage you do so, it'll make it a lot more fun. If you need guidance in obtaining an API key, check out this Gist.\n",
      "\n",
      "If that doesn't work for you, the second method is to utilize a static dataset included in the bundle (static_tweet_data.json.gz). This doesn't require as many downloads or any API keys, but also doesn't get at the concurrent, realtime capabilities of this workflow.\n",
      "\n",
      "If you run through the notebook once with the static data, then begin using the live stream, it will happily append the fresh data to the static data.\n",
      "\n",
      "So below, REALTIME_DATA is set to False. If you have a Twitter API key, set this value to True and fill in the values for the access token and consumer token."
     ]
    },
    {
     "cell_type": "code",
     "collapsed": false,
     "input": [
      "REALTIME_DATA = True # Set this to true in order to use Twitter API.\n",
      "\n",
      "if REALTIME_DATA:\n",
      "    #This is private data. Don't re-share this notebook with your keys here.\n",
      "    twitter_stream = twitter.TwitterStream(auth=twitter.OAuth(\n",
      "            token=\"NA\",\n",
      "            token_secret=\"NA\",\n",
      "            consumer_key=\"NA\",\n",
      "            consumer_secret=\"NA\"))\n",
      "    stream = twitter_stream.statuses.sample(block=True)\n",
      "    \n",
      "    testing = stream.next() # This is just to make sure the stream is emitting data.\n",
      "    print \"Done!\""
     ],
     "language": "python",
     "metadata": {},
     "outputs": []
    },
    {
     "cell_type": "markdown",
     "metadata": {},
     "source": [
      "The raw Tweets that come from the Twitter stream contain lots of data, some of which lies in nested structures. Here is an example, the following block will display a single raw tweet:"
     ]
    },
    {
     "cell_type": "code",
     "collapsed": false,
     "input": [
      "if REALTIME_DATA:\n",
      "    raw_T = None\n",
      "    while not raw_T or 'delete' in raw_T:\n",
      "        raw_T = stream.next()\n",
      "    print json.dumps(raw_T)\n",
      "else:\n",
      "    print json.dumps(json.load(open('one_tweet.json')))\n"
     ],
     "language": "python",
     "metadata": {},
     "outputs": []
    },
    {
     "cell_type": "markdown",
     "metadata": {},
     "source": [
      "For the purposes of this notebook, we only care about a few of the fields, and we want them in predictable, flat structures. The Tweet class is just a subclass of dict that will extract and parse the data we care about."
     ]
    },
    {
     "cell_type": "code",
     "collapsed": false,
     "input": [
      "class Tweet(dict):\n",
      "    def __init__(self, raw_tweet):\n",
      "        super(Tweet, self).__init__(self)\n",
      "        if raw_tweet and 'delete' not in raw_tweet:\n",
      "            self['timestamp'] = dateutil.parser.parse(raw_tweet[u'created_at']\n",
      "                                ).replace(tzinfo=None).isoformat()\n",
      "            self['text'] = raw_tweet['text']\n",
      "            self['hashtags'] = [x['text'] for x in raw_tweet['entities']['hashtags']]\n",
      "            self['geo'] = raw_tweet['geo']['coordinates'] if raw_tweet['geo'] else None\n",
      "            self['id'] = raw_tweet['id']\n",
      "            self['screen_name'] = raw_tweet['user']['screen_name']\n",
      "            self['user_id'] = raw_tweet['user']['id'] \n"
     ],
     "language": "python",
     "metadata": {},
     "outputs": []
    },
    {
     "cell_type": "markdown",
     "metadata": {},
     "source": [
      "The stream can include deleted Tweets, which we want to exclude. These deleted Tweets just become empty Tweet objects, hence the \"while not T\" idiom:"
     ]
    },
    {
     "cell_type": "code",
     "collapsed": false,
     "input": [
      "if REALTIME_DATA:\n",
      "    T = None\n",
      "    while not T:\n",
      "        T = Tweet(stream.next())\n",
      "else:\n",
      "    T = Tweet(json.load(open('one_tweet.json')))\n",
      "\n",
      "print json.dumps(T)"
     ],
     "language": "python",
     "metadata": {},
     "outputs": []
    },
    {
     "cell_type": "heading",
     "level": 2,
     "metadata": {},
     "source": [
      "Language detection"
     ]
    },
    {
     "cell_type": "markdown",
     "metadata": {},
     "source": [
      "With a stream of Tweets in hand, we would like to perform language detection on each Tweet in order to group them together by language.\n",
      "\n",
      "The Natural Language Toolkit (NLTK) contains tools for text analysis. We are going to employ a cheap method of language detection: counting special stopwords from each language in the text of each tweet. The language with the most stopwords in the Tweet text is then chosen as the originating language. In the case of a tie, a winner is randomly chosen from those languages with the most matches.\n",
      "\n",
      "This method is far from perfect, but is a reasonable first attempt. Will it be good enough to be useful? Keep reading to find out!"
     ]
    },
    {
     "cell_type": "code",
     "collapsed": false,
     "input": [
      "from nltk.corpus import stopwords # stopwords to detect language\n",
      "from nltk import wordpunct_tokenize # function to split up our words\n",
      "\n",
      "def get_likely_language(input_text):\n",
      "    \"\"\" \n",
      "    Return the most likely language of the given text,\n",
      "    along with the number of stopword matches for that\n",
      "    language and total.\n",
      "\n",
      "    Adapted from: http://h6o6.com/2012/12/detecting-language-with-python-and-the-natural-language-toolkit-nltk/\n",
      "    \"\"\"\n",
      "    input_text = input_text.lower()\n",
      "    input_words = wordpunct_tokenize(input_text)\n",
      " \n",
      "    likely_language = 'unknown'\n",
      "    likely_language_matches = 0\n",
      "    total_matches = 0\n",
      "    stopword_sets = dict([(lang, set(stopwords.words(lang))) \n",
      "                            for lang in stopwords._fileids])\n",
      "    \n",
      "    for language in np.random.permutation(stopwords._fileids):\n",
      "        language_matches = len(set(input_words) & stopword_sets[language])\n",
      "        total_matches += language_matches\n",
      "        if language_matches > likely_language_matches:\n",
      "            likely_language_matches = language_matches\n",
      "            likely_language = language\n",
      " \n",
      "    return (likely_language, likely_language_matches, total_matches)\n"
     ],
     "language": "python",
     "metadata": {},
     "outputs": []
    },
    {
     "cell_type": "markdown",
     "metadata": {},
     "source": [
      "Let's try this on a few Tweets from the stream and see what we get:"
     ]
    },
    {
     "cell_type": "code",
     "collapsed": false,
     "input": [
      "if REALTIME_DATA:\n",
      "    for i in range(5):\n",
      "        T = Tweet(stream.next())\n",
      "        if T:\n",
      "            T['language'] = get_likely_language(T['text'])[0]\n",
      "            print \"%s, %i, %i: %s\" % (get_likely_language(T['text']) + (T['text'],))\n",
      "else:\n",
      "    T = Tweet(json.load(open('one_tweet.json')))\n",
      "    T['language'] = get_likely_language(T['text'])[0]\n",
      "    print \"%s, %i, %i: %s\" % (get_likely_language(T['text']) + (T['text'],))\n"
     ],
     "language": "python",
     "metadata": {},
     "outputs": []
    },
    {
     "cell_type": "heading",
     "level": 2,
     "metadata": {},
     "source": [
      "Redis data store"
     ]
    },
    {
     "cell_type": "markdown",
     "metadata": {},
     "source": [
      "We are using Redis to store our data for a few important reasons. First and most importantly, we can read data from the Redis database while we are writing to it in the background without dealing with threading/multiprocessing annoyances like semaphores and locks. Second, while Redis is an in-memory database, it saves to disk periodically for persistence. This way we can pick up where we left off if there is a problem, as opposed to if we were storing our data in Python objects.\n",
      "\n",
      "First we need to start the Redis server. Either run \"redis-server\" from from a shell terminal, or just run the following cell."
     ]
    },
    {
     "cell_type": "code",
     "collapsed": false,
     "input": [
      "!redis-cli ping &> /dev/null || (redis-server & disown)"
     ],
     "language": "python",
     "metadata": {},
     "outputs": []
    },
    {
     "cell_type": "markdown",
     "metadata": {},
     "source": [
      "The previous block may give a warning about a missing config file. This is fine to ignore.\n",
      "\n",
      "Once the Redis server is running, we can connect to it. Redis can have multiple different keyspaces each identified by a nonnegative integer, here DB_NUMBER."
     ]
    },
    {
     "cell_type": "code",
     "collapsed": false,
     "input": [
      "DB_NUMBER = 0\n",
      "r = redis.StrictRedis(host='localhost', port=6379, db=DB_NUMBER)"
     ],
     "language": "python",
     "metadata": {},
     "outputs": []
    },
    {
     "cell_type": "markdown",
     "metadata": {},
     "source": [
      "Since we will not be modifying the data objects once we load them into the database, the append-only persisistence method provides excellent fault tolerance with no downside. The append-only persistence option is less appropriate for rapidly-changing data."
     ]
    },
    {
     "cell_type": "code",
     "collapsed": false,
     "input": [
      "r.config_set('appendonly', 'yes')\n",
      "r.config_get('appendonly')"
     ],
     "language": "python",
     "metadata": {},
     "outputs": []
    },
    {
     "cell_type": "markdown",
     "metadata": {},
     "source": [
      "There are a variety of data structures available in Redis, but the most natural for our purposes are lists. If 'test' is the key/name for our list, we can push arbitrary numbers of elements to the end (right) of the list."
     ]
    },
    {
     "cell_type": "code",
     "collapsed": false,
     "input": [
      "r.rpush('test', 'a', 'b', 'c')"
     ],
     "language": "python",
     "metadata": {},
     "outputs": []
    },
    {
     "cell_type": "markdown",
     "metadata": {},
     "source": [
      "Lists in Redis are doubly-linked, so we can push to the beginning (left) as well. Appending to either side is done in constant time."
     ]
    },
    {
     "cell_type": "code",
     "collapsed": false,
     "input": [
      "r.lpush('test', 'd')"
     ],
     "language": "python",
     "metadata": {},
     "outputs": []
    },
    {
     "cell_type": "markdown",
     "metadata": {},
     "source": [
      "Access list slices with the lrange method. Indices can be specified from the left(+) or the right(-). As in Python, the leftmost index is 0, and the rightmost is -1. As opposed to Python, slice indices are inclusive."
     ]
    },
    {
     "cell_type": "code",
     "collapsed": false,
     "input": [
      "print r.lrange('test', 0, 3)\n",
      "print r.lrange('test', -2, -1)"
     ],
     "language": "python",
     "metadata": {},
     "outputs": []
    },
    {
     "cell_type": "markdown",
     "metadata": {},
     "source": [
      "Also unlike Python, specifying out-of-bounds indices is not a problem."
     ]
    },
    {
     "cell_type": "code",
     "collapsed": false,
     "input": [
      "print r.lrange('test', 0, 100)"
     ],
     "language": "python",
     "metadata": {},
     "outputs": []
    },
    {
     "cell_type": "markdown",
     "metadata": {},
     "source": [
      "There's plenty more to learn about Redis, but that's about all we need right now."
     ]
    },
    {
     "cell_type": "code",
     "collapsed": false,
     "input": [
      "r.delete('test')"
     ],
     "language": "python",
     "metadata": {},
     "outputs": []
    },
    {
     "cell_type": "heading",
     "level": 2,
     "metadata": {},
     "source": [
      "Multiprocessing data pipeline"
     ]
    },
    {
     "cell_type": "markdown",
     "metadata": {},
     "source": [
      "In the case where we are using realtime streaming data, we want the data collection to occur in the background so we can perform analysis in the notebook. For this, we will use multiprocessing. So now that we have a way to guess at the language being used and a place to store the data for analysis, we want to put together the following pipeline for the data:\n",
      "\n",
      "   1. Read Tweets from the stream and load the relevant, parsed information into Tweet objects.\n",
      "   2. Get Tweet objects, determine their language, attach that data to the Tweet object.\n",
      "   3. If we determined the language, save the data in a bin according to that language.\n",
      "\n",
      "With multiprocessing in mind, we will define a small worker function for each of these steps using queues for inter-process communication. The first of these workers takes the raw data from the Twitter stream loads it into our custom Tweet objects. Garbage data from the stream, like deleted tweets, are not passed along to the next worker."
     ]
    },
    {
     "cell_type": "code",
     "collapsed": false,
     "input": [
      "SENTINEL = '$QUIT'\n",
      "def load_tweets(twitter_stream, out_q, time_limit):\n",
      "    \"\"\"\n",
      "    This is a worker that takes a live Twitter stream, \n",
      "    and puts parsed Tweet objects into the out queue.\n",
      "    \n",
      "    ARGS:\n",
      "    twitter_stream: An instance of twitter.TwitterStream.\n",
      "    out_q: An instance of multiprocessing.queue.\n",
      "    time_limit: A number, the run time in minutes.\n",
      "    \"\"\"\n",
      "    end_time = time.time() + 60*time_limit\n",
      "    twiterator = itertools.chain.from_iterable(\n",
      "                    itertools.repeat(\n",
      "                    twitter_stream.statuses.sample()))\n",
      "    try:\n",
      "        for raw_tweet in twiterator:\n",
      "            T = Tweet(raw_tweet)\n",
      "            if T: \n",
      "                out_q.put(T)\n",
      "            if time.time() > end_time:\n",
      "                break\n",
      "    finally:\n",
      "        out_q.put(SENTINEL)"
     ],
     "language": "python",
     "metadata": {},
     "outputs": []
    },
    {
     "cell_type": "markdown",
     "metadata": {},
     "source": [
      "The language detector worker only passes on Tweets whose language it can detect."
     ]
    },
    {
     "cell_type": "code",
     "collapsed": false,
     "input": [
      "def get_language(in_q, out_q):\n",
      "    \"\"\"\n",
      "    This is a worker that takes Tweet objects from the\n",
      "    input queue, guesses their originating language,\n",
      "    and places successfully identified Tweet objects\n",
      "    on the output queue.\n",
      "    \n",
      "    ARGS:\n",
      "    in_q: An instance of multiprocessing.queue.\n",
      "    out_q: An instance of multiprocessing.queue.\n",
      "    \"\"\"\n",
      "    try:\n",
      "        while True:\n",
      "            try:\n",
      "                T = in_q.get(timeout=1)\n",
      "            except Empty:\n",
      "                continue\n",
      "            if T == SENTINEL:\n",
      "                break\n",
      "            elif T:\n",
      "                lang, matches, total_matches = get_likely_language(T['text'])\n",
      "                if lang and matches > 1:\n",
      "                    T['language'] = lang\n",
      "                    out_q.put(T)\n",
      "    finally:\n",
      "        out_q.put(SENTINEL)\n",
      "        in_q.put(SENTINEL)"
     ],
     "language": "python",
     "metadata": {},
     "outputs": []
    },
    {
     "cell_type": "markdown",
     "metadata": {},
     "source": [
      "The record write worker is saving two types of objects for each tweet with identifiable language:\n",
      "\n",
      "   1. The lat/lon coordinates, if they exist\n",
      "   2. The hashtags contained within, if any\n",
      "\n",
      "In this way, we can find out the most popular hashtags for each language, as well as plot the locations for tweeters for each language."
     ]
    },
    {
     "cell_type": "code",
     "collapsed": false,
     "input": [
      "def write_records(in_q, db):\n",
      "    \"\"\"\n",
      "    This is a worker that takes Tweet objects from the\n",
      "    input queue, and writes selected data to a Redis db.\n",
      "    \n",
      "    ARGS:\n",
      "    in_q: An instance of multiprocessing.queue.\n",
      "    db: A redis.StrictRedis instance, the Redis database\n",
      "        to write out to.\n",
      "    \"\"\"\n",
      "    try:\n",
      "        while True:\n",
      "            try:\n",
      "                T = in_q.get(timeout=1)\n",
      "            except Empty:\n",
      "                continue\n",
      "            if T == SENTINEL:\n",
      "                break\n",
      "            elif T and T.get('language'):\n",
      "                if T['hashtags']:\n",
      "                    db.rpush('hashtag_' + T['language'], *T['hashtags'])\n",
      "                if T['geo']:\n",
      "                    db.rpush('geo_' + T['language'], json.dumps(T['geo']))\n",
      "    finally:\n",
      "        in_q.put(SENTINEL)\n"
     ],
     "language": "python",
     "metadata": {},
     "outputs": []
    },
    {
     "cell_type": "markdown",
     "metadata": {},
     "source": [
      "Now that we have defined the worker functions for the data pipeline, we need to create the Process and Queue objects. The language_queue will link the stream worker with the language detection workers, and the write_queue will link the language detectors to the database write worker. The TIME_LIMIT variable controls how long data collection will persist in the background."
     ]
    },
    {
     "cell_type": "code",
     "collapsed": false,
     "input": [
      "TIME_LIMIT = 30 #in minutes\n",
      "\n",
      "# multiprocessing is imported as mp\n",
      "if REALTIME_DATA:\n",
      "    language_queue = mp.Queue()\n",
      "    write_queue = mp.Queue()\n",
      "    \n",
      "    # Stream worker\n",
      "    process_list = []\n",
      "    process_list.append(mp.Process(\n",
      "            target=load_tweets, \n",
      "            args=(twitter_stream, language_queue, TIME_LIMIT)))\n"
     ],
     "language": "python",
     "metadata": {},
     "outputs": []
    },
    {
     "cell_type": "markdown",
     "metadata": {},
     "source": [
      "Language detection takes longer than the other steps, so we create two language detection workers in order to ensure that data doesn't back up in the language_queue."
     ]
    },
    {
     "cell_type": "code",
     "collapsed": false,
     "input": [
      "if REALTIME_DATA:\n",
      "    # Two language detection workers\n",
      "    for i in range(2):\n",
      "        process_list.append(mp.Process(\n",
      "            target=get_language, \n",
      "            args=(language_queue, write_queue)))\n",
      "    \n",
      "    # DB write worker\n",
      "    process_list.append(mp.Process(\n",
      "            target=write_records, \n",
      "            args=(write_queue, r)))\n"
     ],
     "language": "python",
     "metadata": {},
     "outputs": []
    },
    {
     "cell_type": "markdown",
     "metadata": {},
     "source": [
      "We have created the process objects and put them in a list, now we call the start() method on each."
     ]
    },
    {
     "cell_type": "code",
     "collapsed": false,
     "input": [
      "if REALTIME_DATA:\n",
      "    print \"Starting processes at: %s\" % datetime.datetime.now()\n",
      "    print \"Processes will end at: %s\" % (datetime.datetime.now() + datetime.timedelta(minutes=TIME_LIMIT))\n",
      "    for p in process_list:\n",
      "        p.start()\n",
      "else:\n",
      "    print \"Load non-realtime data two cells below.\""
     ],
     "language": "python",
     "metadata": {},
     "outputs": []
    },
    {
     "cell_type": "markdown",
     "metadata": {},
     "source": [
      "If all went according to plan, the worker processes are now operating in the background, and we are able to still execute commands in the notebook. Execute the following cell to check."
     ]
    },
    {
     "cell_type": "code",
     "collapsed": false,
     "input": [
      "print \"Still responsive!\""
     ],
     "language": "python",
     "metadata": {},
     "outputs": []
    },
    {
     "cell_type": "heading",
     "level": 3,
     "metadata": {},
     "source": [
      "In the case where we are not using a realtime Twitter feed, we will load a scrubbed, static dataset with languages already detected."
     ]
    },
    {
     "cell_type": "code",
     "collapsed": false,
     "input": [
      "SENTINEL = '$QUIT'\n",
      "if not REALTIME_DATA:\n",
      "    import gzip, Queue\n",
      "    static_data = json.load(gzip.open('static_tweet_data.json.gz'))\n",
      "    tweet_queue = Queue.Queue()\n",
      "    for tweet in static_data:\n",
      "        tweet_queue.put(tweet)\n",
      "    tweet_queue.put(SENTINEL)\n",
      "    print \"Tweets loaded into queue, writing to db.\"\n",
      "    write_records(tweet_queue, r)\n",
      "    print \"Tweets written to db.\"\n"
     ],
     "language": "python",
     "metadata": {},
     "outputs": []
    },
    {
     "cell_type": "heading",
     "level": 2,
     "metadata": {},
     "source": [
      "Status checks"
     ]
    },
    {
     "cell_type": "markdown",
     "metadata": {},
     "source": [
      "Great! We can still execute code. Now we need a way to check on our processes. This function will print out some relevant data. Execute it whenever you want to check up on the background processes."
     ]
    },
    {
     "cell_type": "code",
     "collapsed": false,
     "input": [
      "def check_status():\n",
      "    print \"Current time:\", datetime.datetime.now().time().replace(microsecond=0)\n",
      "    print \"Redis memory used:\", r.info()['used_memory_peak_human']\n",
      "    if REALTIME_DATA:\n",
      "        print \"Queue lengths:\", [q.qsize() for q in language_queue, write_queue]\n",
      "        print \"Processes alive?\", [x.is_alive() for x in process_list]\n",
      "        \n",
      "check_status()"
     ],
     "language": "python",
     "metadata": {},
     "outputs": []
    },
    {
     "cell_type": "markdown",
     "metadata": {},
     "source": [
      "So we can check how our processes are doing, but the real question is how our data is doing. The beauty of Redis is that we can read from our lists whether or not the background processes are writing.\n",
      "\n",
      "The following block counts how many data are saved in each of our different lists. It can be executed any time you want a count of the records stored."
     ]
    },
    {
     "cell_type": "code",
     "collapsed": false,
     "input": [
      "print \"%10.10s: %6s,%7s\" % (\"language\", \"geo\", \"hashtag\")\n",
      "print \"-\" * 26\n",
      "for lang in sorted(stopwords._fileids):\n",
      "    print \"%10.10s: %6i, %6i\" % (lang, r.llen('geo_'+lang), r.llen('hashtag_' + lang))\n"
     ],
     "language": "python",
     "metadata": {},
     "outputs": []
    },
    {
     "cell_type": "heading",
     "level": 2,
     "metadata": {},
     "source": [
      "Analysis: Trending hashtags per language"
     ]
    },
    {
     "cell_type": "markdown",
     "metadata": {},
     "source": [
      "Each of the \"hashtag_{language}\" lists consists of all of the hashtags tweeted in that language. The collections library has a Counter class that is perfect for doing a wordcount on each language's 5000 most recent hashtags, and returning the TOP_N_HASHTAGS along with their counts. Obviously this analysis gets more informative when there are many tweets in the Redis db.\n",
      "\n",
      "This cell can be re-executed at any time to update the counts"
     ]
    },
    {
     "cell_type": "code",
     "collapsed": false,
     "input": [
      "TOP_N_HASHTAGS = 3\n",
      "for lang in sorted(stopwords._fileids):\n",
      "    key = 'hashtag_' + lang\n",
      "    c = collections.Counter()\n",
      "    hashtags = r.lrange(key, -5000, -1)\n",
      "    c.update(map(string.lower, hashtags))\n",
      "    print \"%10s: %s\"%(lang, ', '.join([\"%s %i\" % x for x in c.most_common(TOP_N_HASHTAGS)]))\n"
     ],
     "language": "python",
     "metadata": {},
     "outputs": []
    },
    {
     "cell_type": "heading",
     "level": 2,
     "metadata": {},
     "source": [
      "Analysis: Geographic language distribution"
     ]
    },
    {
     "cell_type": "markdown",
     "metadata": {},
     "source": [
      "We have collected a subset of tweets with both a geographic location and a detectable location. For each language, we want to plot these locations on a map in order to see the geographic distribution of Tweets in that language. Towards that aim, we will utilize the Google Maps API along with IPython's ability to run Javascript.\n",
      "\n",
      "The basic idea of how we are going to proceed is that we will construct Python strings of Javascript/HTML code, and then pass these to the IPython core display method. The following cell loads the Google Maps API if it is not already loaded."
     ]
    },
    {
     "cell_type": "code",
     "collapsed": false,
     "input": [
      "from IPython import display\n",
      "js_loader = \"\"\"\n",
      "function verifyJSLoaded(){\n",
      "    var jsapiLoaded = (typeof google === 'object' && typeof google.maps === 'object');\n",
      "    console.log(\"Google API Loaded: \" + jsapiLoaded);\n",
      "    return jsapiLoaded;\n",
      "}\n",
      "\n",
      "function loadScript() {\n",
      "  if (!verifyJSLoaded()) {\n",
      "    console.log('Loading Google API.');\n",
      "    var script = document.createElement(\"script\");\n",
      "    script.type = \"text/javascript\";\n",
      "    script.src = \"https://maps.googleapis.com/maps/api/js?sensor=false&libraries=visualization&callback=console.log\";\n",
      "    document.body.appendChild(script);\n",
      "  }\n",
      "}\n",
      "\n",
      "loadScript();\n",
      "\"\"\"\n",
      "display.Javascript(js_loader)\n"
     ],
     "language": "python",
     "metadata": {},
     "outputs": []
    },
    {
     "cell_type": "markdown",
     "metadata": {},
     "source": [
      "While the above piece of JS can be executed verbatim, we will make use of string formatting to construct our other pieces of JS/HTML."
     ]
    },
    {
     "cell_type": "code",
     "collapsed": false,
     "input": [
      "html_template = '<div id=\"%s\" style=\"width: 500px; height: 300px\"></div>'\n",
      "#This is to make sure the JS gets loaded before we try to load the maps\n",
      "time.sleep(1) "
     ],
     "language": "python",
     "metadata": {},
     "outputs": []
    },
    {
     "cell_type": "markdown",
     "metadata": {},
     "source": [
      "The following function will generate the Javascript for creating a heatmap given a Redis key to a list of coordinates.\n",
      "\n",
      "The coordinate pairs are loaded into Python tuples, and then placed into strings like \"new google.maps.LatLng( , )\" which eval to the appropriate Javascript objects. These strings are then joined up and placed in the appropriate place in the Javascript such that they comprise the geoData array."
     ]
    },
    {
     "cell_type": "code",
     "collapsed": false,
     "input": [
      "def gen_javascript(key, div_id=None, N=100):\n",
      "    \"\"\"\n",
      "    Generates javascript to draw a heatmap with Google Maps API.\n",
      "    ARGS:\n",
      "    key: The name of the Redis key storing coordinate pairs to map.\n",
      "    div_id: The id of the HTML div to place the map in. A value \n",
      "            of None will draw the map in a div with id = key.\n",
      "    N: The number of coordinate pairs to plot. The N most recent\n",
      "       pairs will be drawn.\n",
      "    \"\"\"\n",
      "\n",
      "    if div_id == None:\n",
      "        div_id = key\n",
      "    # Gets the N most *recent* coordinates \n",
      "    pairs = [json.loads(x) for x in r.lrange(key,-N,-1)]\n",
      "    # Creates Javascript objects which will comprise geoData.\n",
      "    coords = ',\\n  '.join([\"new google.maps.LatLng(%s, %s)\" % tuple(pair) for pair in pairs])    \n",
      "    template_jscript = \"\"\"\n",
      "    var geoData = [\n",
      "    %s\n",
      "    ];\n",
      "        \n",
      "    var map, heatmap;\n",
      "        \n",
      "    function hmap_initialize() {\n",
      "        var mapOptions = {\n",
      "        zoom: 1,\n",
      "        center: new google.maps.LatLng(30.5171, 0.1062),\n",
      "        mapTypeId: google.maps.MapTypeId.SATELLITE\n",
      "        };\n",
      "        \n",
      "        map = new google.maps.Map(document.getElementById('%s'),\n",
      "              mapOptions);\n",
      "        \n",
      "        var pointArray = new google.maps.MVCArray(geoData);\n",
      "        \n",
      "        heatmap = new google.maps.visualization.HeatmapLayer({\n",
      "        data: pointArray\n",
      "        });\n",
      "        \n",
      "      heatmap.setMap(map);\n",
      "    }\n",
      "    \n",
      "    hmap_initialize();\n",
      "    \"\"\"\n",
      "    return template_jscript % (coords, div_id)"
     ],
     "language": "python",
     "metadata": {},
     "outputs": []
    },
    {
     "cell_type": "markdown",
     "metadata": {},
     "source": [
      "The next block will take a key like \"geo_{language}\", create the Javascript, and then create the HTML div for the map.\n",
      "\n",
      "After executing the next block, the output will be blank. This is normal. Execute the block after next to load the map into the div created by the output of the next cell. Note that these two steps can't be run in the same block."
     ]
    },
    {
     "cell_type": "code",
     "collapsed": false,
     "input": [
      "key = 'geo_english'\n",
      "jscript = gen_javascript(key, N=400)\n",
      "display.HTML(html_template % key)"
     ],
     "language": "python",
     "metadata": {},
     "outputs": []
    },
    {
     "cell_type": "code",
     "collapsed": false,
     "input": [
      "display.Javascript(jscript)"
     ],
     "language": "python",
     "metadata": {},
     "outputs": []
    },
    {
     "cell_type": "markdown",
     "metadata": {},
     "source": [
      "You can specify any of the languages we were detecting, listed up above a few times, but it works best with the more common languages. Try spanish, french, and portuguese."
     ]
    },
    {
     "cell_type": "code",
     "collapsed": false,
     "input": [
      "key = 'geo_spanish'\n",
      "jscript = gen_javascript(key, N=400)\n",
      "display.HTML(html_template % key)"
     ],
     "language": "python",
     "metadata": {},
     "outputs": []
    },
    {
     "cell_type": "code",
     "collapsed": false,
     "input": [
      "display.Javascript(jscript)"
     ],
     "language": "python",
     "metadata": {},
     "outputs": []
    },
    {
     "cell_type": "markdown",
     "metadata": {},
     "source": [
      "You can execute these blocks to refresh the maps as often as you want, the maps draw the 400 most recent data points by default."
     ]
    }
   ],
   "metadata": {}
  }
 ]
}